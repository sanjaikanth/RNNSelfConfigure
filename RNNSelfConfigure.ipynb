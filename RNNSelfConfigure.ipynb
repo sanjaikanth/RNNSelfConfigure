{
 "cells": [
  {
   "cell_type": "code",
   "execution_count": 33,
   "metadata": {},
   "outputs": [],
   "source": [
    "import numpy as np\n",
    "import tensorflow_datasets as tfds\n",
    "import tensorflow as tf\n",
    "import numpy as np # linear algebra\n",
    "import pandas as pd # data processing, CSV file I/O (e.g. pd.read_csv)\n",
    "tfds.disable_progress_bar()\n",
    "from collections import Counter\n",
    "import re\n",
    "from stop_words import get_stop_words\n",
    "from nltk.corpus import stopwords\n",
    "from nltk.tokenize import word_tokenize\n",
    "from keras.preprocessing.text import Tokenizer\n",
    "from keras.models import Sequential\n",
    "from keras.layers import Dense, Embedding, LSTM, SpatialDropout1D\n",
    "from keras.callbacks import EarlyStopping\n",
    "from keras.preprocessing.sequence import pad_sequences\n",
    "from sklearn.model_selection import train_test_split\n",
    "import matplotlib.pyplot as plt"
   ]
  },
  {
   "cell_type": "code",
   "execution_count": 34,
   "metadata": {},
   "outputs": [],
   "source": [
    "def removeStopeWords(text):\n",
    "    counts = Counter()\n",
    "    words = re.compile(r'\\w+')\n",
    "    counts.update(words.findall(text.lower()))\n",
    "\n",
    "    stop_words1 = list(get_stop_words('en'))         #About 900 stopwords\n",
    "    nltk_words = list(stopwords.words('english')) #About 150 stopwords\n",
    "    stop_words1.extend(nltk_words)\n",
    "    sw_list = ['The',',','.']\n",
    "    stop_words1.extend(sw_list)\n",
    "    #text=' '.join(first100)\n",
    "    text = re.sub(r'[^\\w\\s]', '', text)\n",
    "    text_tokens = word_tokenize(text)\n",
    "    tokens_without_sw = [word for word in text_tokens if not word in stop_words1]\n",
    "    return \" \".join(tokens_without_sw)\n",
    "#print(removeStoeWords('hello of the sanja kanth'))"
   ]
  },
  {
   "cell_type": "code",
   "execution_count": 35,
   "metadata": {},
   "outputs": [
    {
     "name": "stdout",
     "output_type": "stream",
     "text": [
      "(4155, 3)\n"
     ]
    },
    {
     "data": {
      "text/html": [
       "<div>\n",
       "<style scoped>\n",
       "    .dataframe tbody tr th:only-of-type {\n",
       "        vertical-align: middle;\n",
       "    }\n",
       "\n",
       "    .dataframe tbody tr th {\n",
       "        vertical-align: top;\n",
       "    }\n",
       "\n",
       "    .dataframe thead th {\n",
       "        text-align: right;\n",
       "    }\n",
       "</style>\n",
       "<table border=\"1\" class=\"dataframe\">\n",
       "  <thead>\n",
       "    <tr style=\"text-align: right;\">\n",
       "      <th></th>\n",
       "      <th>ID</th>\n",
       "      <th>tweet</th>\n",
       "      <th>label</th>\n",
       "    </tr>\n",
       "  </thead>\n",
       "  <tbody>\n",
       "    <tr>\n",
       "      <th>0</th>\n",
       "      <td>969</td>\n",
       "      <td>U.S. Army Corps of Engineers mobilizing to con...</td>\n",
       "      <td>Real</td>\n",
       "    </tr>\n",
       "    <tr>\n",
       "      <th>1</th>\n",
       "      <td>976</td>\n",
       "      <td>The EU’s chief Brexit negotiator, Michel Barni...</td>\n",
       "      <td>Real</td>\n",
       "    </tr>\n",
       "    <tr>\n",
       "      <th>2</th>\n",
       "      <td>985</td>\n",
       "      <td>Work to convert the Day Patient Unit at Guerns...</td>\n",
       "      <td>Real</td>\n",
       "    </tr>\n",
       "    <tr>\n",
       "      <th>3</th>\n",
       "      <td>1007</td>\n",
       "      <td>US could be worse than Italy if 15-day guideli...</td>\n",
       "      <td>Unverified</td>\n",
       "    </tr>\n",
       "    <tr>\n",
       "      <th>4</th>\n",
       "      <td>1011</td>\n",
       "      <td>Viral message claiming that disinfection will ...</td>\n",
       "      <td>Fake</td>\n",
       "    </tr>\n",
       "    <tr>\n",
       "      <th>5</th>\n",
       "      <td>1016</td>\n",
       "      <td>There is an old undocumented man that “does no...</td>\n",
       "      <td>Fake</td>\n",
       "    </tr>\n",
       "    <tr>\n",
       "      <th>6</th>\n",
       "      <td>1020</td>\n",
       "      <td>Vitamin D supplementation reduces the risk of ...</td>\n",
       "      <td>Unverified</td>\n",
       "    </tr>\n",
       "    <tr>\n",
       "      <th>7</th>\n",
       "      <td>1022</td>\n",
       "      <td>The father of Pablo Iglesias, vice-president o...</td>\n",
       "      <td>Fake</td>\n",
       "    </tr>\n",
       "    <tr>\n",
       "      <th>8</th>\n",
       "      <td>1036</td>\n",
       "      <td>UN is giving humanitarian aid in coronavirus e...</td>\n",
       "      <td>Fake</td>\n",
       "    </tr>\n",
       "    <tr>\n",
       "      <th>9</th>\n",
       "      <td>1052</td>\n",
       "      <td>WHO reported that Coronavirus lasts upto 8 hou...</td>\n",
       "      <td>Fake</td>\n",
       "    </tr>\n",
       "  </tbody>\n",
       "</table>\n",
       "</div>"
      ],
      "text/plain": [
       "     ID                                              tweet       label\n",
       "0   969  U.S. Army Corps of Engineers mobilizing to con...        Real\n",
       "1   976  The EU’s chief Brexit negotiator, Michel Barni...        Real\n",
       "2   985  Work to convert the Day Patient Unit at Guerns...        Real\n",
       "3  1007  US could be worse than Italy if 15-day guideli...  Unverified\n",
       "4  1011  Viral message claiming that disinfection will ...        Fake\n",
       "5  1016  There is an old undocumented man that “does no...        Fake\n",
       "6  1020  Vitamin D supplementation reduces the risk of ...  Unverified\n",
       "7  1022  The father of Pablo Iglesias, vice-president o...        Fake\n",
       "8  1036  UN is giving humanitarian aid in coronavirus e...        Fake\n",
       "9  1052  WHO reported that Coronavirus lasts upto 8 hou...        Fake"
      ]
     },
     "execution_count": 35,
     "metadata": {},
     "output_type": "execute_result"
    }
   ],
   "source": [
    "df=pd.read_excel('SourceData2022.xlsx')\n",
    "print(df.shape)\n",
    "df.head(10)"
   ]
  },
  {
   "cell_type": "code",
   "execution_count": 36,
   "metadata": {},
   "outputs": [],
   "source": [
    "for index, row in df.iterrows():\n",
    "    df.at[index, \"tweet\"]=removeStopeWords(df.at[index, \"tweet\"])"
   ]
  },
  {
   "cell_type": "code",
   "execution_count": 37,
   "metadata": {},
   "outputs": [
    {
     "data": {
      "text/html": [
       "<div>\n",
       "<style scoped>\n",
       "    .dataframe tbody tr th:only-of-type {\n",
       "        vertical-align: middle;\n",
       "    }\n",
       "\n",
       "    .dataframe tbody tr th {\n",
       "        vertical-align: top;\n",
       "    }\n",
       "\n",
       "    .dataframe thead th {\n",
       "        text-align: right;\n",
       "    }\n",
       "</style>\n",
       "<table border=\"1\" class=\"dataframe\">\n",
       "  <thead>\n",
       "    <tr style=\"text-align: right;\">\n",
       "      <th></th>\n",
       "      <th>ID</th>\n",
       "      <th>tweet</th>\n",
       "      <th>label</th>\n",
       "    </tr>\n",
       "  </thead>\n",
       "  <tbody>\n",
       "    <tr>\n",
       "      <th>0</th>\n",
       "      <td>969</td>\n",
       "      <td>US Army Corps Engineers mobilizing convert hot...</td>\n",
       "      <td>Real</td>\n",
       "    </tr>\n",
       "    <tr>\n",
       "      <th>1</th>\n",
       "      <td>976</td>\n",
       "      <td>EUs chief Brexit negotiator Michel Barnier tes...</td>\n",
       "      <td>Real</td>\n",
       "    </tr>\n",
       "    <tr>\n",
       "      <th>2</th>\n",
       "      <td>985</td>\n",
       "      <td>Work convert Day Patient Unit Guernseys Prince...</td>\n",
       "      <td>Real</td>\n",
       "    </tr>\n",
       "    <tr>\n",
       "      <th>3</th>\n",
       "      <td>1007</td>\n",
       "      <td>US worse Italy 15day guidelines disregarded</td>\n",
       "      <td>Unverified</td>\n",
       "    </tr>\n",
       "    <tr>\n",
       "      <th>4</th>\n",
       "      <td>1011</td>\n",
       "      <td>Viral message claiming disinfection conducted ...</td>\n",
       "      <td>Fake</td>\n",
       "    </tr>\n",
       "    <tr>\n",
       "      <th>...</th>\n",
       "      <td>...</td>\n",
       "      <td>...</td>\n",
       "      <td>...</td>\n",
       "    </tr>\n",
       "    <tr>\n",
       "      <th>4150</th>\n",
       "      <td>2751</td>\n",
       "      <td>Gargling salt water eliminates 2019 novel coro...</td>\n",
       "      <td>Fake</td>\n",
       "    </tr>\n",
       "    <tr>\n",
       "      <th>4151</th>\n",
       "      <td>2752</td>\n",
       "      <td>Former senator Antonio Trillanes IV allegedly ...</td>\n",
       "      <td>Fake</td>\n",
       "    </tr>\n",
       "    <tr>\n",
       "      <th>4152</th>\n",
       "      <td>2754</td>\n",
       "      <td>MOSTLY Italy decided treat elderly virus</td>\n",
       "      <td>Fake</td>\n",
       "    </tr>\n",
       "    <tr>\n",
       "      <th>4153</th>\n",
       "      <td>2762</td>\n",
       "      <td>matter time case UK given ease new coronavirus...</td>\n",
       "      <td>Real</td>\n",
       "    </tr>\n",
       "    <tr>\n",
       "      <th>4154</th>\n",
       "      <td>2765</td>\n",
       "      <td>Partially Claim notes uncle graduated masters ...</td>\n",
       "      <td>Fake</td>\n",
       "    </tr>\n",
       "  </tbody>\n",
       "</table>\n",
       "<p>4155 rows × 3 columns</p>\n",
       "</div>"
      ],
      "text/plain": [
       "        ID                                              tweet       label\n",
       "0      969  US Army Corps Engineers mobilizing convert hot...        Real\n",
       "1      976  EUs chief Brexit negotiator Michel Barnier tes...        Real\n",
       "2      985  Work convert Day Patient Unit Guernseys Prince...        Real\n",
       "3     1007        US worse Italy 15day guidelines disregarded  Unverified\n",
       "4     1011  Viral message claiming disinfection conducted ...        Fake\n",
       "...    ...                                                ...         ...\n",
       "4150  2751  Gargling salt water eliminates 2019 novel coro...        Fake\n",
       "4151  2752  Former senator Antonio Trillanes IV allegedly ...        Fake\n",
       "4152  2754           MOSTLY Italy decided treat elderly virus        Fake\n",
       "4153  2762  matter time case UK given ease new coronavirus...        Real\n",
       "4154  2765  Partially Claim notes uncle graduated masters ...        Fake\n",
       "\n",
       "[4155 rows x 3 columns]"
      ]
     },
     "execution_count": 37,
     "metadata": {},
     "output_type": "execute_result"
    }
   ],
   "source": [
    "df"
   ]
  },
  {
   "cell_type": "code",
   "execution_count": 38,
   "metadata": {},
   "outputs": [],
   "source": [
    "one_hot = pd.get_dummies(df['label'])\n",
    "df = df.join(one_hot)"
   ]
  },
  {
   "cell_type": "code",
   "execution_count": 39,
   "metadata": {},
   "outputs": [
    {
     "data": {
      "text/html": [
       "<div>\n",
       "<style scoped>\n",
       "    .dataframe tbody tr th:only-of-type {\n",
       "        vertical-align: middle;\n",
       "    }\n",
       "\n",
       "    .dataframe tbody tr th {\n",
       "        vertical-align: top;\n",
       "    }\n",
       "\n",
       "    .dataframe thead th {\n",
       "        text-align: right;\n",
       "    }\n",
       "</style>\n",
       "<table border=\"1\" class=\"dataframe\">\n",
       "  <thead>\n",
       "    <tr style=\"text-align: right;\">\n",
       "      <th></th>\n",
       "      <th>ID</th>\n",
       "      <th>tweet</th>\n",
       "      <th>label</th>\n",
       "      <th>Disinformative</th>\n",
       "      <th>Fake</th>\n",
       "      <th>MisInformative</th>\n",
       "      <th>Real</th>\n",
       "      <th>Unverified</th>\n",
       "    </tr>\n",
       "  </thead>\n",
       "  <tbody>\n",
       "    <tr>\n",
       "      <th>0</th>\n",
       "      <td>969</td>\n",
       "      <td>US Army Corps Engineers mobilizing convert hot...</td>\n",
       "      <td>Real</td>\n",
       "      <td>0</td>\n",
       "      <td>0</td>\n",
       "      <td>0</td>\n",
       "      <td>1</td>\n",
       "      <td>0</td>\n",
       "    </tr>\n",
       "    <tr>\n",
       "      <th>1</th>\n",
       "      <td>976</td>\n",
       "      <td>EUs chief Brexit negotiator Michel Barnier tes...</td>\n",
       "      <td>Real</td>\n",
       "      <td>0</td>\n",
       "      <td>0</td>\n",
       "      <td>0</td>\n",
       "      <td>1</td>\n",
       "      <td>0</td>\n",
       "    </tr>\n",
       "    <tr>\n",
       "      <th>2</th>\n",
       "      <td>985</td>\n",
       "      <td>Work convert Day Patient Unit Guernseys Prince...</td>\n",
       "      <td>Real</td>\n",
       "      <td>0</td>\n",
       "      <td>0</td>\n",
       "      <td>0</td>\n",
       "      <td>1</td>\n",
       "      <td>0</td>\n",
       "    </tr>\n",
       "    <tr>\n",
       "      <th>3</th>\n",
       "      <td>1007</td>\n",
       "      <td>US worse Italy 15day guidelines disregarded</td>\n",
       "      <td>Unverified</td>\n",
       "      <td>0</td>\n",
       "      <td>0</td>\n",
       "      <td>0</td>\n",
       "      <td>0</td>\n",
       "      <td>1</td>\n",
       "    </tr>\n",
       "    <tr>\n",
       "      <th>4</th>\n",
       "      <td>1011</td>\n",
       "      <td>Viral message claiming disinfection conducted ...</td>\n",
       "      <td>Fake</td>\n",
       "      <td>0</td>\n",
       "      <td>1</td>\n",
       "      <td>0</td>\n",
       "      <td>0</td>\n",
       "      <td>0</td>\n",
       "    </tr>\n",
       "    <tr>\n",
       "      <th>...</th>\n",
       "      <td>...</td>\n",
       "      <td>...</td>\n",
       "      <td>...</td>\n",
       "      <td>...</td>\n",
       "      <td>...</td>\n",
       "      <td>...</td>\n",
       "      <td>...</td>\n",
       "      <td>...</td>\n",
       "    </tr>\n",
       "    <tr>\n",
       "      <th>4150</th>\n",
       "      <td>2751</td>\n",
       "      <td>Gargling salt water eliminates 2019 novel coro...</td>\n",
       "      <td>Fake</td>\n",
       "      <td>0</td>\n",
       "      <td>1</td>\n",
       "      <td>0</td>\n",
       "      <td>0</td>\n",
       "      <td>0</td>\n",
       "    </tr>\n",
       "    <tr>\n",
       "      <th>4151</th>\n",
       "      <td>2752</td>\n",
       "      <td>Former senator Antonio Trillanes IV allegedly ...</td>\n",
       "      <td>Fake</td>\n",
       "      <td>0</td>\n",
       "      <td>1</td>\n",
       "      <td>0</td>\n",
       "      <td>0</td>\n",
       "      <td>0</td>\n",
       "    </tr>\n",
       "    <tr>\n",
       "      <th>4152</th>\n",
       "      <td>2754</td>\n",
       "      <td>MOSTLY Italy decided treat elderly virus</td>\n",
       "      <td>Fake</td>\n",
       "      <td>0</td>\n",
       "      <td>1</td>\n",
       "      <td>0</td>\n",
       "      <td>0</td>\n",
       "      <td>0</td>\n",
       "    </tr>\n",
       "    <tr>\n",
       "      <th>4153</th>\n",
       "      <td>2762</td>\n",
       "      <td>matter time case UK given ease new coronavirus...</td>\n",
       "      <td>Real</td>\n",
       "      <td>0</td>\n",
       "      <td>0</td>\n",
       "      <td>0</td>\n",
       "      <td>1</td>\n",
       "      <td>0</td>\n",
       "    </tr>\n",
       "    <tr>\n",
       "      <th>4154</th>\n",
       "      <td>2765</td>\n",
       "      <td>Partially Claim notes uncle graduated masters ...</td>\n",
       "      <td>Fake</td>\n",
       "      <td>0</td>\n",
       "      <td>1</td>\n",
       "      <td>0</td>\n",
       "      <td>0</td>\n",
       "      <td>0</td>\n",
       "    </tr>\n",
       "  </tbody>\n",
       "</table>\n",
       "<p>4155 rows × 8 columns</p>\n",
       "</div>"
      ],
      "text/plain": [
       "        ID                                              tweet       label  \\\n",
       "0      969  US Army Corps Engineers mobilizing convert hot...        Real   \n",
       "1      976  EUs chief Brexit negotiator Michel Barnier tes...        Real   \n",
       "2      985  Work convert Day Patient Unit Guernseys Prince...        Real   \n",
       "3     1007        US worse Italy 15day guidelines disregarded  Unverified   \n",
       "4     1011  Viral message claiming disinfection conducted ...        Fake   \n",
       "...    ...                                                ...         ...   \n",
       "4150  2751  Gargling salt water eliminates 2019 novel coro...        Fake   \n",
       "4151  2752  Former senator Antonio Trillanes IV allegedly ...        Fake   \n",
       "4152  2754           MOSTLY Italy decided treat elderly virus        Fake   \n",
       "4153  2762  matter time case UK given ease new coronavirus...        Real   \n",
       "4154  2765  Partially Claim notes uncle graduated masters ...        Fake   \n",
       "\n",
       "      Disinformative  Fake  MisInformative  Real  Unverified  \n",
       "0                  0     0               0     1           0  \n",
       "1                  0     0               0     1           0  \n",
       "2                  0     0               0     1           0  \n",
       "3                  0     0               0     0           1  \n",
       "4                  0     1               0     0           0  \n",
       "...              ...   ...             ...   ...         ...  \n",
       "4150               0     1               0     0           0  \n",
       "4151               0     1               0     0           0  \n",
       "4152               0     1               0     0           0  \n",
       "4153               0     0               0     1           0  \n",
       "4154               0     1               0     0           0  \n",
       "\n",
       "[4155 rows x 8 columns]"
      ]
     },
     "execution_count": 39,
     "metadata": {},
     "output_type": "execute_result"
    }
   ],
   "source": [
    "df"
   ]
  },
  {
   "cell_type": "code",
   "execution_count": 41,
   "metadata": {},
   "outputs": [
    {
     "data": {
      "text/html": [
       "<div>\n",
       "<style scoped>\n",
       "    .dataframe tbody tr th:only-of-type {\n",
       "        vertical-align: middle;\n",
       "    }\n",
       "\n",
       "    .dataframe tbody tr th {\n",
       "        vertical-align: top;\n",
       "    }\n",
       "\n",
       "    .dataframe thead th {\n",
       "        text-align: right;\n",
       "    }\n",
       "</style>\n",
       "<table border=\"1\" class=\"dataframe\">\n",
       "  <thead>\n",
       "    <tr style=\"text-align: right;\">\n",
       "      <th></th>\n",
       "      <th>tweet</th>\n",
       "      <th>Disinformative</th>\n",
       "      <th>Fake</th>\n",
       "      <th>MisInformative</th>\n",
       "      <th>Real</th>\n",
       "      <th>Unverified</th>\n",
       "    </tr>\n",
       "  </thead>\n",
       "  <tbody>\n",
       "    <tr>\n",
       "      <th>0</th>\n",
       "      <td>US Army Corps Engineers mobilizing convert hot...</td>\n",
       "      <td>0</td>\n",
       "      <td>0</td>\n",
       "      <td>0</td>\n",
       "      <td>1</td>\n",
       "      <td>0</td>\n",
       "    </tr>\n",
       "    <tr>\n",
       "      <th>1</th>\n",
       "      <td>EUs chief Brexit negotiator Michel Barnier tes...</td>\n",
       "      <td>0</td>\n",
       "      <td>0</td>\n",
       "      <td>0</td>\n",
       "      <td>1</td>\n",
       "      <td>0</td>\n",
       "    </tr>\n",
       "    <tr>\n",
       "      <th>2</th>\n",
       "      <td>Work convert Day Patient Unit Guernseys Prince...</td>\n",
       "      <td>0</td>\n",
       "      <td>0</td>\n",
       "      <td>0</td>\n",
       "      <td>1</td>\n",
       "      <td>0</td>\n",
       "    </tr>\n",
       "    <tr>\n",
       "      <th>3</th>\n",
       "      <td>US worse Italy 15day guidelines disregarded</td>\n",
       "      <td>0</td>\n",
       "      <td>0</td>\n",
       "      <td>0</td>\n",
       "      <td>0</td>\n",
       "      <td>1</td>\n",
       "    </tr>\n",
       "    <tr>\n",
       "      <th>4</th>\n",
       "      <td>Viral message claiming disinfection conducted ...</td>\n",
       "      <td>0</td>\n",
       "      <td>1</td>\n",
       "      <td>0</td>\n",
       "      <td>0</td>\n",
       "      <td>0</td>\n",
       "    </tr>\n",
       "    <tr>\n",
       "      <th>...</th>\n",
       "      <td>...</td>\n",
       "      <td>...</td>\n",
       "      <td>...</td>\n",
       "      <td>...</td>\n",
       "      <td>...</td>\n",
       "      <td>...</td>\n",
       "    </tr>\n",
       "    <tr>\n",
       "      <th>4150</th>\n",
       "      <td>Gargling salt water eliminates 2019 novel coro...</td>\n",
       "      <td>0</td>\n",
       "      <td>1</td>\n",
       "      <td>0</td>\n",
       "      <td>0</td>\n",
       "      <td>0</td>\n",
       "    </tr>\n",
       "    <tr>\n",
       "      <th>4151</th>\n",
       "      <td>Former senator Antonio Trillanes IV allegedly ...</td>\n",
       "      <td>0</td>\n",
       "      <td>1</td>\n",
       "      <td>0</td>\n",
       "      <td>0</td>\n",
       "      <td>0</td>\n",
       "    </tr>\n",
       "    <tr>\n",
       "      <th>4152</th>\n",
       "      <td>MOSTLY Italy decided treat elderly virus</td>\n",
       "      <td>0</td>\n",
       "      <td>1</td>\n",
       "      <td>0</td>\n",
       "      <td>0</td>\n",
       "      <td>0</td>\n",
       "    </tr>\n",
       "    <tr>\n",
       "      <th>4153</th>\n",
       "      <td>matter time case UK given ease new coronavirus...</td>\n",
       "      <td>0</td>\n",
       "      <td>0</td>\n",
       "      <td>0</td>\n",
       "      <td>1</td>\n",
       "      <td>0</td>\n",
       "    </tr>\n",
       "    <tr>\n",
       "      <th>4154</th>\n",
       "      <td>Partially Claim notes uncle graduated masters ...</td>\n",
       "      <td>0</td>\n",
       "      <td>1</td>\n",
       "      <td>0</td>\n",
       "      <td>0</td>\n",
       "      <td>0</td>\n",
       "    </tr>\n",
       "  </tbody>\n",
       "</table>\n",
       "<p>4155 rows × 6 columns</p>\n",
       "</div>"
      ],
      "text/plain": [
       "                                                  tweet  Disinformative  Fake  \\\n",
       "0     US Army Corps Engineers mobilizing convert hot...               0     0   \n",
       "1     EUs chief Brexit negotiator Michel Barnier tes...               0     0   \n",
       "2     Work convert Day Patient Unit Guernseys Prince...               0     0   \n",
       "3           US worse Italy 15day guidelines disregarded               0     0   \n",
       "4     Viral message claiming disinfection conducted ...               0     1   \n",
       "...                                                 ...             ...   ...   \n",
       "4150  Gargling salt water eliminates 2019 novel coro...               0     1   \n",
       "4151  Former senator Antonio Trillanes IV allegedly ...               0     1   \n",
       "4152           MOSTLY Italy decided treat elderly virus               0     1   \n",
       "4153  matter time case UK given ease new coronavirus...               0     0   \n",
       "4154  Partially Claim notes uncle graduated masters ...               0     1   \n",
       "\n",
       "      MisInformative  Real  Unverified  \n",
       "0                  0     1           0  \n",
       "1                  0     1           0  \n",
       "2                  0     1           0  \n",
       "3                  0     0           1  \n",
       "4                  0     0           0  \n",
       "...              ...   ...         ...  \n",
       "4150               0     0           0  \n",
       "4151               0     0           0  \n",
       "4152               0     0           0  \n",
       "4153               0     1           0  \n",
       "4154               0     0           0  \n",
       "\n",
       "[4155 rows x 6 columns]"
      ]
     },
     "execution_count": 41,
     "metadata": {},
     "output_type": "execute_result"
    }
   ],
   "source": [
    "df.drop('label', axis=1, inplace=True)\n",
    "df.drop('ID', axis=1, inplace=True)\n",
    "df"
   ]
  },
  {
   "cell_type": "code",
   "execution_count": 42,
   "metadata": {},
   "outputs": [
    {
     "name": "stdout",
     "output_type": "stream",
     "text": [
      "Found 9323 unique tokens.\n"
     ]
    }
   ],
   "source": [
    "# The maximum number of words to be used. (most frequent)\n",
    "MAX_NB_WORDS = 50000\n",
    "# Max number of words in each complaint.\n",
    "MAX_SEQUENCE_LENGTH = 250\n",
    "# This is fixed.\n",
    "EMBEDDING_DIM = 100\n",
    "\n",
    "tokenizer = Tokenizer(num_words=MAX_NB_WORDS, filters='!\"#$%&()*+,-./:;<=>?@[\\]^_`{|}~', lower=True)\n",
    "tokenizer.fit_on_texts(df['tweet'].values)\n",
    "word_index = tokenizer.word_index\n",
    "print('Found %s unique tokens.' % len(word_index))"
   ]
  },
  {
   "cell_type": "code",
   "execution_count": 43,
   "metadata": {},
   "outputs": [
    {
     "name": "stdout",
     "output_type": "stream",
     "text": [
      "Shape of data tensor: (4155, 250)\n"
     ]
    }
   ],
   "source": [
    "X = tokenizer.texts_to_sequences(df['tweet'].values)\n",
    "X = pad_sequences(X, maxlen=MAX_SEQUENCE_LENGTH)\n",
    "print('Shape of data tensor:', X.shape)\n",
    "y= df[['Disinformative','Fake','MisInformative','Real','Unverified']]\n",
    "print(y.dtypes)\n",
    "# X=df[\"tweet\"]\n",
    "# X.dtypes"
   ]
  },
  {
   "cell_type": "code",
   "execution_count": 44,
   "metadata": {},
   "outputs": [
    {
     "data": {
      "text/plain": [
       "250"
      ]
     },
     "execution_count": 44,
     "metadata": {},
     "output_type": "execute_result"
    }
   ],
   "source": [
    "X.shape[1]"
   ]
  },
  {
   "cell_type": "code",
   "execution_count": 45,
   "metadata": {},
   "outputs": [
    {
     "data": {
      "text/plain": [
       "array([[   0,    0,    0, ...,  264, 4479,   89],\n",
       "       [   0,    0,    0, ...,  232,  492,   57],\n",
       "       [   0,    0,    0, ..., 3038,   44,  170],\n",
       "       ...,\n",
       "       [   0,    0,    0, ...,  175,  421,    6],\n",
       "       [   0,    0,    0, ...,   42,  130,  485],\n",
       "       [   0,    0,    0, ...,    2,  107,  189]])"
      ]
     },
     "execution_count": 45,
     "metadata": {},
     "output_type": "execute_result"
    }
   ],
   "source": [
    "X"
   ]
  },
  {
   "cell_type": "code",
   "execution_count": 46,
   "metadata": {},
   "outputs": [
    {
     "name": "stdout",
     "output_type": "stream",
     "text": [
      "Model: \"sequential_1\"\n",
      "_________________________________________________________________\n",
      " Layer (type)                Output Shape              Param #   \n",
      "=================================================================\n",
      " embedding_1 (Embedding)     (None, 250, 100)          5000000   \n",
      "                                                                 \n",
      " spatial_dropout1d_1 (Spatia  (None, 250, 100)         0         \n",
      " lDropout1D)                                                     \n",
      "                                                                 \n",
      " lstm_1 (LSTM)               (None, 100)               80400     \n",
      "                                                                 \n",
      " dense_1 (Dense)             (None, 5)                 505       \n",
      "                                                                 \n",
      "=================================================================\n",
      "Total params: 5,080,905\n",
      "Trainable params: 5,080,905\n",
      "Non-trainable params: 0\n",
      "_________________________________________________________________\n",
      "None\n"
     ]
    }
   ],
   "source": [
    "model = Sequential()\n",
    "model.add(Embedding(MAX_NB_WORDS, EMBEDDING_DIM, input_length=X.shape[1]))\n",
    "model.add(SpatialDropout1D(0.2))\n",
    "model.add(LSTM(100, dropout=0.2, recurrent_dropout=0.2))\n",
    "model.add(Dense(5, activation='softmax'))\n",
    "model.compile(loss='categorical_crossentropy', optimizer='adam', metrics=['accuracy'])\n",
    "print(model.summary())"
   ]
  },
  {
   "cell_type": "code",
   "execution_count": 48,
   "metadata": {},
   "outputs": [
    {
     "name": "stdout",
     "output_type": "stream",
     "text": [
      "Epoch 1/5\n",
      "59/59 [==============================] - 66s 1s/step - loss: 0.8937 - accuracy: 0.7285 - val_loss: 0.8009 - val_accuracy: 0.6779\n",
      "Epoch 2/5\n",
      "59/59 [==============================] - 60s 1s/step - loss: 0.6254 - accuracy: 0.7735 - val_loss: 0.6150 - val_accuracy: 0.8149\n",
      "Epoch 3/5\n",
      "59/59 [==============================] - 64s 1s/step - loss: 0.3694 - accuracy: 0.8537 - val_loss: 0.6253 - val_accuracy: 0.8269\n",
      "Epoch 4/5\n",
      "59/59 [==============================] - 58s 982ms/step - loss: 0.2404 - accuracy: 0.9144 - val_loss: 0.7754 - val_accuracy: 0.7380\n",
      "Epoch 5/5\n",
      "59/59 [==============================] - 58s 990ms/step - loss: 0.1322 - accuracy: 0.9580 - val_loss: 0.7421 - val_accuracy: 0.8053\n"
     ]
    }
   ],
   "source": [
    "epochs = 5\n",
    "batch_size = 64\n",
    "\n",
    "history = model.fit(X, y, epochs=epochs, batch_size=batch_size,validation_split=0.1)#,callbacks=[EarlyStopping(monitor='val_loss', patience=3, min_delta=0.0001)])"
   ]
  },
  {
   "cell_type": "code",
   "execution_count": 50,
   "metadata": {},
   "outputs": [
    {
     "name": "stdout",
     "output_type": "stream",
     "text": [
      "[[2.5123073e-04 9.9844295e-01 4.3245527e-04 2.1950634e-04 6.5386127e-04]] Fake\n"
     ]
    }
   ],
   "source": [
    "new_complaint = ['Vitamin C can cure covid-19']\n",
    "seq = tokenizer.texts_to_sequences(new_complaint)\n",
    "padded = pad_sequences(seq, maxlen=MAX_SEQUENCE_LENGTH)\n",
    "pred = model.predict(padded)\n",
    "labels = ['Disinformative','Fake','MisInformative','Real','Unverified']\n",
    "print(pred, labels[np.argmax(pred)])"
   ]
  },
  {
   "cell_type": "code",
   "execution_count": 51,
   "metadata": {},
   "outputs": [
    {
     "name": "stdout",
     "output_type": "stream",
     "text": [
      "[[4.7589440e-04 9.9649018e-01 6.5423158e-04 5.5853592e-04 1.8210592e-03]] Fake\n"
     ]
    }
   ],
   "source": [
    "new_complaint = ['The photo of a porn actor used to pass as a health professional']\n",
    "seq = tokenizer.texts_to_sequences(new_complaint)\n",
    "padded = pad_sequences(seq, maxlen=MAX_SEQUENCE_LENGTH)\n",
    "pred = model.predict(padded)\n",
    "labels = ['Disinformative','Fake','MisInformative','Real','Unverified']\n",
    "print(pred, labels[np.argmax(pred)])"
   ]
  },
  {
   "cell_type": "code",
   "execution_count": 52,
   "metadata": {},
   "outputs": [
    {
     "name": "stdout",
     "output_type": "stream",
     "text": [
      "[[0.0067782  0.07793102 0.00452856 0.73384786 0.17691444]] Real\n"
     ]
    }
   ],
   "source": [
    "\n",
    "new_complaint = ['Work to convert the Day Patient Unit at Guernsey\\'s Princess Elizabeth Hospital into an Intensive Care Unit (ICU) has been completed in two weeks']\n",
    "seq = tokenizer.texts_to_sequences(new_complaint)\n",
    "padded = pad_sequences(seq, maxlen=MAX_SEQUENCE_LENGTH)\n",
    "pred = model.predict(padded)\n",
    "labels = ['Disinformative','Fake','MisInformative','Real','Unverified']\n",
    "print(pred, labels[np.argmax(pred)])"
   ]
  },
  {
   "cell_type": "code",
   "execution_count": 53,
   "metadata": {},
   "outputs": [
    {
     "name": "stdout",
     "output_type": "stream",
     "text": [
      "(3739, 250) (3739, 5)\n",
      "(416, 250) (416, 5)\n"
     ]
    }
   ],
   "source": [
    "X_train, X_test, Y_train, Y_test = train_test_split(X,y, test_size = 0.10, random_state = 42)\n",
    "print(X_train.shape,Y_train.shape)\n",
    "print(X_test.shape,Y_test.shape)"
   ]
  },
  {
   "cell_type": "code",
   "execution_count": 54,
   "metadata": {},
   "outputs": [
    {
     "name": "stdout",
     "output_type": "stream",
     "text": [
      "13/13 [==============================] - 1s 65ms/step - loss: 0.1721 - accuracy: 0.9639\n",
      "Test set\n",
      "  Loss: 0.172\n",
      "  Accuracy: 0.964\n"
     ]
    }
   ],
   "source": [
    "accr = model.evaluate(X_test,Y_test)\n",
    "print('Test set\\n  Loss: {:0.3f}\\n  Accuracy: {:0.3f}'.format(accr[0],accr[1]))"
   ]
  },
  {
   "cell_type": "code",
   "execution_count": 55,
   "metadata": {},
   "outputs": [
    {
     "data": {
      "image/png": "[encoded data removed]",
      "text/plain": [
       "<Figure size 432x288 with 1 Axes>"
      ]
     },
     "metadata": {
      "needs_background": "light"
     },
     "output_type": "display_data"
    }
   ],
   "source": [
    "plt.title('Loss')\n",
    "plt.plot(history.history['loss'], label='train')\n",
    "plt.plot(history.history['val_loss'], label='test')\n",
    "plt.legend()\n",
    "plt.show();"
   ]
  },
  {
   "cell_type": "code",
   "execution_count": 56,
   "metadata": {},
   "outputs": [
    {
     "data": {
      "image/png": "[encoded data removed]",
      "text/plain": [
       "<Figure size 432x288 with 1 Axes>"
      ]
     },
     "metadata": {
      "needs_background": "light"
     },
     "output_type": "display_data"
    }
   ],
   "source": [
    "plt.title('Accuracy')\n",
    "plt.plot(history.history['accuracy'], label='train')\n",
    "plt.plot(history.history['val_accuracy'], label='test')\n",
    "plt.legend()\n",
    "plt.show();"
   ]
  }
 ],
 "metadata": {
  "kernelspec": {
   "display_name": "Python 3",
   "language": "python",
   "name": "python3"
  },
  "language_info": {
   "codemirror_mode": {
    "name": "ipython",
    "version": 3
   },
   "file_extension": ".py",
   "mimetype": "text/x-python",
   "name": "python",
   "nbconvert_exporter": "python",
   "pygments_lexer": "ipython3",
   "version": "3.8.5"
  }
 },
 "nbformat": 4,
 "nbformat_minor": 4
}
